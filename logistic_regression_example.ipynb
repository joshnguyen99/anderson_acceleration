{
 "cells": [
  {
   "cell_type": "code",
   "execution_count": 1,
   "id": "f881a7d3",
   "metadata": {},
   "outputs": [],
   "source": [
    "import numpy as np\n",
    "import numpy.linalg as LA\n",
    "import matplotlib.pyplot as plt\n",
    "from tqdm import tqdm\n",
    "from aa import AndersonAcceleration"
   ]
  },
  {
   "cell_type": "markdown",
   "id": "b20a1f10",
   "metadata": {},
   "source": [
    "# Gradient descent vs. Anderson-accelerated GD\n",
    "\n",
    "Let's optimize another objective. In this case we're training a logistic regression model with $\\ell_2$ regularization. Let $A \\in \\mathbb{R}^{n \\times d}$ be the design matrix for $n$ examples each with $d$ dimensions, and let $b \\in \\{-1, 1\\}^n$ be the response variables. Given a vector $x \\in \\mathbb{R}^d$ of weights, the optimization problem for $\\ell_2$-regularized logistic regression is\n",
    "\\begin{align*}\n",
    "\\min_{x \\in \\mathbb{R}^d} \\left\\{ f(x) := \\sum_{i=1}^{n} \\log \\left( 1 + \\exp(-b_i A_i x) \\right) + \\frac{\\lambda}{2} ||x||_2^2 \\right\\},\n",
    "\\end{align*}\n",
    "where $\\lambda \\geq 0$, $b_i$ and $A_i$ are the $i$th element of $b$ and $i$th row of $A$, respectively. Note that $A_i$ is a row vector.\n",
    "\n",
    "The gradient and Hessian of $f$, respectively, are:\n",
    "\\begin{align*}\n",
    "\\nabla f(x) &= - \\sum_{i=1}^{n} \\frac{z_i}{1 + z_i} b_i A_i^T  + \\lambda x, \\\\\n",
    "\\nabla^2 f(x) &= A^\\top \\mathrm{diag}\\left(\\frac{\\exp(z_1)}{(1 + \\exp(z_1))^2}, \\ldots, \\frac{\\exp(z_n)}{(1 + \\exp(z_n))^2} \\right) A + \\lambda I,\n",
    "\\end{align*}\n",
    "\n",
    "where $z_i := \\exp(- b_i A_i x)$, and $I$ is the $d \\times d$ identity matrix.\n",
    "\n",
    "It can be seen that the $f$ is a continuous, $L$-smooth and $\\mu$-strongly convex function with $\\mu \\geq \\lambda$ and $L \\leq \\frac{1}{4} ||A||_2^2 + \\lambda$. Therefore, GD will guarantee linear convergence: with condition number $\\kappa := \\frac{L}{\\mu}$, we need $O\\left( \\kappa \\log \\frac{1}{\\epsilon} \\right)$ to achieve $f(x) - f(x^*) \\leq \\epsilon$.\n",
    "\n",
    "There is no theoretical guarantee (as far as I'm aware) that AA achieves $O\\left( \\sqrt{\\kappa} \\log \\frac{1}{\\epsilon} \\right)$ convergence rate on non-quadratic objective like in this logistic regression scenario. However, the below strongly suggests that it is the case; at the very least, AA converges much faster than GD.\n",
    "\n",
    "Let's set the condition number $\\kappa$ to $10^6$ and compare the two algorithms. First, define our logistic regression class."
   ]
  },
  {
   "cell_type": "code",
   "execution_count": 2,
   "id": "d98f9ad9",
   "metadata": {},
   "outputs": [],
   "source": [
    "class LogReg():\n",
    "    def __init__(self, A, b, lamb, x0=None):\n",
    "        self.A = A                  # Design matrix\n",
    "        self.n, self.dim = A.shape\n",
    "        self.b = b                  # Responses (target variables1)\n",
    "        self.lamb = lamb            # l2 regularization      \n",
    "        self.x = x0 if x0 is not None else np.zeros(self.dim)\n",
    "    def loss(self, x=None):\n",
    "        if x is None:\n",
    "            x = self.x\n",
    "        f = -self.b * np.dot(self.A, x)\n",
    "        f = 1 + np.exp(f)\n",
    "        f = np.log(f)\n",
    "        f = np.sum(f)\n",
    "        f += (self.lamb / 2) * np.sum(x ** 2)\n",
    "        return f\n",
    "    def grad(self, x=None):\n",
    "        if x is None:\n",
    "            x = self.x\n",
    "        z = -self.b * np.dot(self.A, x)\n",
    "        exp_z = np.exp(z)\n",
    "        grad = -self.b * (self.A.T * (exp_z / (1 + exp_z)))\n",
    "        grad = np.sum(grad.T, 0)\n",
    "        grad += self.lamb * x\n",
    "        return grad\n",
    "    def hess(self, x=None):\n",
    "        if x is None:\n",
    "            x = self.x\n",
    "        z = -self.b * np.dot(self.A, x)\n",
    "        exp_z = np.exp(z)\n",
    "        diag = exp_z / ((1 + exp_z) ** 2)\n",
    "        self.diag = diag\n",
    "        hess = self.A.T @ np.diag(diag) @ self.A\n",
    "        hess += self.lamb * np.eye(self.dim)\n",
    "        return hess"
   ]
  },
  {
   "cell_type": "markdown",
   "id": "4c8b290e",
   "metadata": {},
   "source": [
    "We will be using the Madelon dataset from the [LIBSVM library](https://www.csie.ntu.edu.tw/~cjlin/libsvm/). We're only using the training set, which contains $n = 2,000$ examples in $d=500$ dimensions.\n",
    "\n",
    "The below code will download the dataset, save it to the `./madelon` file and load it to $A$ and $b$."
   ]
  },
  {
   "cell_type": "code",
   "execution_count": 3,
   "id": "22d9374a",
   "metadata": {},
   "outputs": [
    {
     "name": "stdout",
     "output_type": "stream",
     "text": [
      "Dataset already exists.\n"
     ]
    }
   ],
   "source": [
    "%%bash\n",
    "# Download the dataset\n",
    "if [ -f ./madelon ]; then\n",
    "    echo \"Dataset already exists.\"\n",
    "else\n",
    "    echo \"Dataset doesn't exist. Downloading\"\n",
    "    curl https://www.csie.ntu.edu.tw/~cjlin/libsvmtools/datasets/binary/madelon > madelon\n",
    "fi"
   ]
  },
  {
   "cell_type": "code",
   "execution_count": 4,
   "id": "ac6975a3",
   "metadata": {},
   "outputs": [],
   "source": [
    "# Load the dataset to A and b\n",
    "from joblib import Memory\n",
    "from sklearn.datasets import load_svmlight_file\n",
    "from scipy.sparse import csr_matrix\n",
    "A, b = load_svmlight_file(\"madelon\")\n",
    "A = csr_matrix.toarray(A)"
   ]
  },
  {
   "cell_type": "code",
   "execution_count": 5,
   "id": "1a52f4bb",
   "metadata": {},
   "outputs": [
    {
     "name": "stdout",
     "output_type": "stream",
     "text": [
      "L     = 47.86540309753588\n",
      "mu    = 4.7865403097535884e-05\n",
      "kappa = 1000000.0\n"
     ]
    }
   ],
   "source": [
    "# Now set up lambda to have a desired condition number\n",
    "# Normalize A and ensure every row has unit length\n",
    "A -= np.mean(A, 0)\n",
    "A /= LA.norm(A, axis=1).reshape(-1, 1)\n",
    "\n",
    "kappa = 1e6\n",
    "mu = (1/4) * LA.norm(A, 2) ** 2 / (kappa - 1)\n",
    "L = (1/4) * LA.norm(A, 2) ** 2 + mu\n",
    "\n",
    "# Double-check\n",
    "kappa = L / mu\n",
    "print(\"L     =\", L)\n",
    "print(\"mu    =\", mu)\n",
    "print(\"kappa =\", kappa)"
   ]
  },
  {
   "cell_type": "code",
   "execution_count": 6,
   "id": "0b9cd4f3",
   "metadata": {},
   "outputs": [],
   "source": [
    "# Step size/learning rate\n",
    "eta = 1 / L\n",
    "\n",
    "logreg = LogReg(A=A, b=b, lamb=mu)\n",
    "\n",
    "f_star = np.inf\n",
    "\n",
    "def opt(x0=None, num_iters=10000, acc=None):\n",
    "    if x0 is None:\n",
    "        x0 = np.random.rand(A.shape[1])\n",
    "    \n",
    "    # History of all f(x_t)\n",
    "    x_prev = x0\n",
    "    f_hist = [logreg.loss(x_prev)]\n",
    "    for t in tqdm(range(num_iters)):\n",
    "        x_new = x_prev - eta * logreg.grad(x_prev)\n",
    "        if acc is not None:\n",
    "            x_new = acc.apply(x_new)\n",
    "        f_hist.append(logreg.loss(x_new))\n",
    "        \n",
    "        # Stop when the gradient vanishes\n",
    "        if LA.norm(logreg.grad(x_new)) < 1e-7:\n",
    "            break\n",
    "\n",
    "        x_prev = x_new\n",
    "    return f_hist"
   ]
  },
  {
   "cell_type": "code",
   "execution_count": 7,
   "id": "fdce9b76",
   "metadata": {},
   "outputs": [
    {
     "name": "stderr",
     "output_type": "stream",
     "text": [
      "100%|████████████████████████████████████████████████████████| 10000/10000 [01:35<00:00, 104.59it/s]\n",
      "100%|████████████████████████████████████████████████████████| 10000/10000 [01:34<00:00, 106.18it/s]\n",
      "100%|████████████████████████████████████████████████████████| 10000/10000 [01:34<00:00, 106.24it/s]\n"
     ]
    }
   ],
   "source": [
    "np.random.seed(100)\n",
    "x0 = np.random.rand(A.shape[1])\n",
    "f_hist_gd = opt(x0=x0, num_iters=10000)\n",
    "f_hist_aa = opt(x0=x0, num_iters=10000, \n",
    "                acc=AndersonAcceleration(window_size=2, \n",
    "                                         reg=0))\n",
    "f_hist_aa_5 = opt(x0=x0, num_iters=10000, \n",
    "                acc=AndersonAcceleration(window_size=5, \n",
    "                                         reg=0))"
   ]
  },
  {
   "cell_type": "code",
   "execution_count": 8,
   "id": "d74f34e3",
   "metadata": {},
   "outputs": [],
   "source": [
    "# f* can't be found analytically, so we just we it as the smallest\n",
    "# f we can find\n",
    "f_star = np.min(np.concatenate((f_hist_gd, f_hist_aa, f_hist_aa_5)))"
   ]
  },
  {
   "cell_type": "code",
   "execution_count": 9,
   "id": "05583226",
   "metadata": {},
   "outputs": [
    {
     "data": {
      "image/png": "[encoded data removed]",
      "text/plain": [
       "<Figure size 288x288 with 1 Axes>"
      ]
     },
     "metadata": {
      "needs_background": "light"
     },
     "output_type": "display_data"
    }
   ],
   "source": [
    "plt.figure(figsize=(4, 4))\n",
    "plt.plot(np.array(f_hist_gd)[:-20] - f_star, label=\"GD\", \n",
    "         linestyle=\":\", c=\"k\")\n",
    "plt.plot(np.array(f_hist_aa)[:-20] - f_star, label=\"AA ($m = 2$)\", \n",
    "         linestyle=\"--\", c=\"k\")\n",
    "plt.plot(np.array(f_hist_aa_5)[:-20] - f_star, label=\"AA ($m = 5$)\", \n",
    "         linestyle=\"-\", c=\"k\")\n",
    "plt.legend(loc=\"best\", prop={'size': 15})\n",
    "plt.ylim([1e-9, 1e3])\n",
    "plt.yscale(\"log\")\n",
    "plt.yticks(size=13)\n",
    "plt.xticks(size=13)\n",
    "plt.ylabel(\"$f(x_t) - f(x^*)$\", size=15, va=\"center\", ha=\"center\")\n",
    "plt.xlabel(\"Iteration $t$\", size=15, ha=\"center\")\n",
    "plt.title(\"Logistic regression, $\\kappa = 10^{6}$\", size=16)\n",
    "plt.savefig(\"AA_GD_logistic_regression.png\", bbox_inches=\"tight\", dpi=100)\n",
    "plt.show()"
   ]
  }
 ],
 "metadata": {
  "kernelspec": {
   "display_name": "Python 3 (ipykernel)",
   "language": "python",
   "name": "python3"
  },
  "language_info": {
   "codemirror_mode": {
    "name": "ipython",
    "version": 3
   },
   "file_extension": ".py",
   "mimetype": "text/x-python",
   "name": "python",
   "nbconvert_exporter": "python",
   "pygments_lexer": "ipython3",
   "version": "3.9.7"
  }
 },
 "nbformat": 4,
 "nbformat_minor": 5
}
