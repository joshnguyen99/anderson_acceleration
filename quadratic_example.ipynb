{
 "cells": [
  {
   "cell_type": "code",
   "execution_count": 1,
   "id": "127b4d91",
   "metadata": {},
   "outputs": [],
   "source": [
    "import numpy as np\n",
    "from tqdm import tqdm\n",
    "import matplotlib.pyplot as plt\n",
    "from aa import AndersonAcceleration"
   ]
  },
  {
   "cell_type": "markdown",
   "id": "c2b310bd",
   "metadata": {},
   "source": [
    "# Gradient descent vs. Anderson-accelerated GD\n",
    "\n",
    "Let's demonstrate the efficacy of AA on a quadratic objective:\n",
    "$$\n",
    "\\min_{x \\in \\mathbb{R}^d} \\left\\{ f(x) := \\frac{1}{2} x^\\top A x - b^\\top x + c \\right\\},\n",
    "$$\n",
    "where $A \\in \\mathbb{R}^{d \\times d}$ is symmetric positive-definite, $b \\in \\mathbb{R}^d$ and $c \\in \\mathbb{R}$. Assume that we know the largest and smallest singular values of $A$ are $L$ and $\\mu$, respectively, which makes the condition number of this problem $\\kappa := \\frac{L}{\\mu}$.\n",
    "\n",
    "The analytical solution to this problem is $x^* = A^{-1}b$. We're going to assume that it's very computationally costly to solve to $x^*$, due to its high dimensionality. We therefore need to use numerical optimization to solve for $x^*$.\n",
    "\n",
    "The first algorithm is gradient descent (GD). Start with some $x_0$, and update the next iterate using the rule:\n",
    "$$\n",
    "x_{t + 1} = x_{t} - \\eta \\nabla f(x_t),\n",
    "$$\n",
    "where $\\eta$ is the step size (learning rate in machine learning jargon), and $\\nabla f(x_t) = A x_t - b$ is the gradient of $f$ evaluated at $x_t$. It is well-known that if we set $\\eta = \\frac{1}{L}$, then GD applied on an $L$-smooth and $\\mu$-strongly convex objective gives us _linear convergence_. In other words, to achieve a solution $x$ such that $f(x) - f(x^*) \\leq \\epsilon$ for some error $\\epsilon$, we need to run GD for $O\\left( \\kappa \\log \\frac{1}{\\epsilon} \\right)$ iterations.\n",
    "\n",
    "The second algorithm is Anderson-accelerated GD (called AA here for short). It is based on an idea called approximate maximal polynomial extraction (AMPE), which basically tries to incorporate what we know from a few previous iterations to help us find an even better iterate than GD. Nesterov acceleration is a special case of AA. Refer to the paper for a formal setup.\n",
    "\n",
    "Nesterov acceleration and AA (with some conditions) can achieve $f(x) - f(x*) \\leq \\epsilon$ in $O\\left( \\sqrt{\\kappa} \\log \\frac{1}{\\epsilon} \\right)$ iterations, which is still linear convergence but with $\\sqrt{\\kappa}$ instead of $\\kappa$. In practice, the condition number can be very large, so using acceleration is much more preferred than the vanilla GD.\n",
    "\n",
    "To show you how useful acceleration can be, let's set $\\kappa$ to a large number, like $10^6$, and compare the two algorithms."
   ]
  },
  {
   "cell_type": "code",
   "execution_count": 2,
   "id": "33b3345d",
   "metadata": {},
   "outputs": [
    {
     "name": "stdout",
     "output_type": "stream",
     "text": [
      "Summary for matrix A\n",
      "  L     = 1019802.0255542687\n",
      "  mu    = 1.0198020255672753\n",
      "  kappa = 999999.9999872467\n"
     ]
    }
   ],
   "source": [
    "# Create A, b and c\n",
    "np.random.seed(100)\n",
    "\n",
    "# Dimensions\n",
    "d = 20\n",
    "kappa = 1e6\n",
    "\n",
    "# Create A\n",
    "A = np.random.rand(d, d) + 50\n",
    "# Ensure A is symmetric\n",
    "A = A.T @ A\n",
    "# Change condition number of a to desired value\n",
    "u, s, vh = np.linalg.svd(A)\n",
    "s += (s.max() - kappa * s.min()) / (kappa - 1)\n",
    "A = u @ np.diag(s) @ vh\n",
    "# Double-check\n",
    "_, s, _ = np.linalg.svd(A)\n",
    "mu, L = s.min(), s.max()\n",
    "print(\"Summary for matrix A\")\n",
    "print(\"  L     =\", s.max())\n",
    "print(\"  mu    =\", s.min())\n",
    "print(\"  kappa =\", np.linalg.cond(A))\n",
    "\n",
    "# Create b\n",
    "b = np.random.rand(d) + 1\n",
    "\n",
    "# Create c\n",
    "c = np.random.rand()"
   ]
  },
  {
   "cell_type": "code",
   "execution_count": 3,
   "id": "3a02f737",
   "metadata": {},
   "outputs": [],
   "source": [
    "def f(x):\n",
    "    assert x.shape == (d, ), \"Wrong shape\"\n",
    "    fx = 0.5 * np.dot(x, np.dot(A, x))\n",
    "    fx -= np.dot(b, x)\n",
    "    fx += c\n",
    "    return fx\n",
    "\n",
    "def grad(x):\n",
    "    assert x.shape == (d, ), \"Wrong shape\"\n",
    "    return np.dot(A, x) - b"
   ]
  },
  {
   "cell_type": "code",
   "execution_count": 4,
   "id": "35397c55",
   "metadata": {},
   "outputs": [
    {
     "name": "stdout",
     "output_type": "stream",
     "text": [
      "The optimal value is 0.5084592802535872\n"
     ]
    }
   ],
   "source": [
    "# The solution and optimal value\n",
    "x_star = np.dot(np.linalg.inv(A), b)\n",
    "f_star = f(x_star)\n",
    "print(\"The optimal value is\", f_star)"
   ]
  },
  {
   "cell_type": "code",
   "execution_count": 5,
   "id": "d49ac672",
   "metadata": {},
   "outputs": [],
   "source": [
    "# Step size/learning rate\n",
    "eta = 1 / np.linalg.norm(A).max()\n",
    "\n",
    "def opt(x0=None, num_iters=10000, acc=None):\n",
    "    if x0 is None:\n",
    "        x0 = np.random.rand(d)\n",
    "    \n",
    "    # History of all f(x_t)\n",
    "    x_prev = x0\n",
    "    f_hist = [f(x_prev)]\n",
    "    for t in tqdm(range(num_iters)):\n",
    "        x_new = x_prev - eta * grad(x_prev)\n",
    "        if acc is not None:\n",
    "            x_new = acc.apply(x_new)\n",
    "        f_hist.append(f(x_new))\n",
    "        x_prev = x_new\n",
    "    return f_hist"
   ]
  },
  {
   "cell_type": "code",
   "execution_count": 6,
   "id": "db1b9a67",
   "metadata": {},
   "outputs": [
    {
     "name": "stderr",
     "output_type": "stream",
     "text": [
      "100%|██████████| 2000/2000 [00:00<00:00, 124294.09it/s]\n",
      "100%|██████████| 2000/2000 [00:00<00:00, 15789.40it/s]\n"
     ]
    }
   ],
   "source": [
    "np.random.seed(100)\n",
    "x0 = np.zeros(d)\n",
    "f_hist_gd = opt(x0=x0, num_iters=2000)\n",
    "f_hist_aa = opt(x0=x0, num_iters=2000, \n",
    "                acc=AndersonAcceleration(window_size=2))"
   ]
  },
  {
   "cell_type": "code",
   "execution_count": 7,
   "id": "ebb7df51",
   "metadata": {
    "scrolled": true
   },
   "outputs": [
    {
     "data": {
      "image/png": "[encoded data removed]",
      "text/plain": [
       "<Figure size 288x288 with 1 Axes>"
      ]
     },
     "metadata": {
      "needs_background": "light"
     },
     "output_type": "display_data"
    }
   ],
   "source": [
    "plt.figure(figsize=(4, 4))\n",
    "plt.plot(np.array(f_hist_gd) - f_star, label=\"GD\", \n",
    "         linestyle=\"--\", c=\"k\")\n",
    "plt.plot(np.array(f_hist_aa) - f_star, label=\"AA ($m = 2$)\", \n",
    "         linestyle=\"-\", c=\"k\")\n",
    "plt.legend(loc=\"best\", prop={'size': 15})\n",
    "plt.ylim([1e-11, 1e0])\n",
    "plt.yscale(\"log\")\n",
    "plt.yticks(size=13)\n",
    "plt.xticks(size=13)\n",
    "plt.ylabel(\"$f(x_t) - f(x^*)$\", size=15, va=\"center\", ha=\"center\")\n",
    "plt.xlabel(\"Iteration $t$\", size=15, ha=\"center\")\n",
    "plt.title(\"Quadratic objective, $\\kappa = 10^{6}$\", size=16)\n",
    "plt.savefig(\"AA_GD_quadratic.png\", bbox_inches=\"tight\", dpi=100)\n",
    "plt.show()"
   ]
  },
  {
   "cell_type": "code",
   "execution_count": null,
   "id": "f5599277",
   "metadata": {},
   "outputs": [],
   "source": []
  }
 ],
 "metadata": {
  "kernelspec": {
   "display_name": "Python 3",
   "language": "python",
   "name": "python3"
  },
  "language_info": {
   "codemirror_mode": {
    "name": "ipython",
    "version": 3
   },
   "file_extension": ".py",
   "mimetype": "text/x-python",
   "name": "python",
   "nbconvert_exporter": "python",
   "pygments_lexer": "ipython3",
   "version": "3.8.8"
  }
 },
 "nbformat": 4,
 "nbformat_minor": 5
}
